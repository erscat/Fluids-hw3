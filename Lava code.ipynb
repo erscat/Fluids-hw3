{
 "cells": [
  {
   "cell_type": "markdown",
   "id": "4e2ca54f",
   "metadata": {},
   "source": [
    "## Equation to solve: $\\partial_t u_y = \\nu\\partial_x^2 u_y - g$, where $g$ is some scaled gravity (depending on the slope of the incline)."
   ]
  },
  {
   "cell_type": "code",
   "execution_count": 9,
   "id": "3faadc5f",
   "metadata": {},
   "outputs": [],
   "source": [
    "\"\"\"\n",
    "Visualizing lava flow\n",
    "Author: Zhongan Lin\n",
    "\"\"\"\n",
    "\n",
    "import numpy as np\n",
    "from matplotlib import pyplot as plt\n",
    "import matplotlib as mpl\n",
    "import matplotlib.animation as animation"
   ]
  },
  {
   "cell_type": "markdown",
   "id": "25f85c0b",
   "metadata": {},
   "source": [
    "## Real-time animation seems shaky on macOS, so compiling gif instead"
   ]
  },
  {
   "cell_type": "code",
   "execution_count": 39,
   "id": "c633a410",
   "metadata": {},
   "outputs": [
    {
     "name": "stdout",
     "output_type": "stream",
     "text": [
      "200 frames in total\n"
     ]
    }
   ],
   "source": [
    "frames = [] # To store all frames to compile\n",
    "\n",
    "# Grid & diffusion parameters\n",
    "angle = 45 # angle of slope\n",
    "D = 10 # viscosity\n",
    "H = 10 # width of lava layer\n",
    "Ngrid = 500\n",
    "Nsteps = 200\n",
    "\n",
    "dt = 0.15\n",
    "dx = H/Ngrid\n",
    "g = 10*np.sin(angle * np.pi/180) #gravity\n",
    "beta = D*dt / (dx**2)\n",
    "x = np.linspace(0, H, Ngrid)\n",
    "\n",
    "# Initial condition\n",
    "u = np.zeros(Ngrid)\n",
    "# Steady-state solution\n",
    "u_final = g/D * (np.copy(x)**2 / 2 - H*np.copy(x))\n",
    "\n",
    "# Evolution\n",
    "for i in range(Nsteps):\n",
    "\n",
    "    # Diffusion operation matrices\n",
    "    A = np.eye(Ngrid)*(1+2*beta) + np.eye(Ngrid,k=1)*(-beta) + \\\n",
    "        np.eye(Ngrid,k=-1)*(-beta)\n",
    "  \n",
    "    # Boundary conditions\n",
    "    A[Ngrid-1, Ngrid-1] = 1 + beta # No stress at air interface\n",
    "    A[0,0] = 1 # No slip at slope interface\n",
    "    A[0,1] = 0\n",
    "     \n",
    "    # Solve for next time step\n",
    "    u_inter = u-g*dt # Including source while satisfying boundary condition\n",
    "    u_inter[0] += g*dt\n",
    "    u = np.linalg.solve(A, u_inter)\n",
    "    \n",
    "    frames.append(u)\n",
    "\n",
    "print(len(frames), \"frames in total\")"
   ]
  },
  {
   "cell_type": "code",
   "execution_count": 42,
   "id": "691de7e8",
   "metadata": {
    "scrolled": true
   },
   "outputs": [
    {
     "data": {
      "text/plain": [
       "[<matplotlib.lines.Line2D at 0x1312b5f00>]"
      ]
     },
     "execution_count": 42,
     "metadata": {},
     "output_type": "execute_result"
    },
    {
     "data": {
      "image/png": "[encoded data removed]",
      "text/plain": [
       "<Figure size 432x288 with 1 Axes>"
      ]
     },
     "metadata": {
      "needs_background": "light"
     },
     "output_type": "display_data"
    }
   ],
   "source": [
    "# Checking that solution indeed asymptotes to the steady-state\n",
    "plt.plot(x, u)\n",
    "plt.plot(x, u_final, '--')"
   ]
  },
  {
   "cell_type": "code",
   "execution_count": 41,
   "id": "44bfe62b",
   "metadata": {
    "scrolled": true
   },
   "outputs": [
    {
     "data": {
      "image/png": "[encoded data removed]",
      "text/plain": [
       "<Figure size 432x288 with 1 Axes>"
      ]
     },
     "metadata": {
      "needs_background": "light"
     },
     "output_type": "display_data"
    }
   ],
   "source": [
    "# Compiling animation\n",
    "mpl.rcParams['savefig.facecolor'] = 'white'\n",
    "fig, ax = plt.subplots()\n",
    "ax.set_xlim(0,H)\n",
    "ax.set_ylim(min(u_final), max(u_final))\n",
    "\n",
    "def animate(i):\n",
    "    u = frames[i]\n",
    "    ax.clear()\n",
    "    ax.plot(x, u_final, '--')\n",
    "    ax.plot(x, u)\n",
    "    ax.set_xlabel('x')\n",
    "    ax.set_ylabel('u_y')\n",
    "\n",
    "anime = animation.FuncAnimation(fig, animate, frames=len(frames), interval=5)\n",
    "anime.save('Lava flow simulation.gif', writer='pillow')"
   ]
  },
  {
   "cell_type": "code",
   "execution_count": null,
   "id": "8a5b57cf",
   "metadata": {},
   "outputs": [],
   "source": []
  }
 ],
 "metadata": {
  "kernelspec": {
   "display_name": "Python 3 (ipykernel)",
   "language": "python",
   "name": "python3"
  },
  "language_info": {
   "codemirror_mode": {
    "name": "ipython",
    "version": 3
   },
   "file_extension": ".py",
   "mimetype": "text/x-python",
   "name": "python",
   "nbconvert_exporter": "python",
   "pygments_lexer": "ipython3",
   "version": "3.10.6"
  }
 },
 "nbformat": 4,
 "nbformat_minor": 5
}
