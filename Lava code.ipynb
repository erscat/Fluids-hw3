{
 "cells": [
  {
   "cell_type": "markdown",
   "id": "4e2ca54f",
   "metadata": {},
   "source": [
    "## Equation to solve: $\\partial_t u_y = \\nu\\partial_x^2 u_y - g$, where $g$ is some scaled gravity (depending on the slope of the incline)."
   ]
  },
  {
   "cell_type": "code",
   "execution_count": 9,
   "id": "3faadc5f",
   "metadata": {},
   "outputs": [],
   "source": [
    "\"\"\"\n",
    "Visualizing lava flow\n",
    "Author: Zhongan Lin\n",
    "\"\"\"\n",
    "\n",
    "import numpy as np\n",
    "from matplotlib import pyplot as plt\n",
    "import matplotlib as mpl\n",
    "import matplotlib.animation as animation"
   ]
  },
  {
   "cell_type": "markdown",
   "id": "f276ac92",
   "metadata": {},
   "source": [
    "## Real-time animation seems shaky on macOS, so compiling gif instead"
   ]
  },
  {
   "cell_type": "code",
   "execution_count": 13,
   "id": "53cad6d7",
   "metadata": {},
   "outputs": [],
   "source": [
    "frames = [] # To store all frames to compile\n",
    "\n",
    "# Grid & diffusion parameters\n",
    "angle = 90\n",
    "D = 10 # viscosity\n",
    "H = 10 # width of lava layer\n",
    "Ngrid = 100\n",
    "Nsteps = 500\n",
    "\n",
    "dt = 0.3\n",
    "dx = H/Ngrid\n",
    "g = 10*np.sin(angle * np.pi/180) #gravity\n",
    "beta = D*dt / (dx**2)\n",
    "x = np.linspace(0, H, Ngrid)\n",
    "\n",
    "# Initial condition\n",
    "u = np.zeros(Ngrid)\n",
    "# Steady-state solution\n",
    "u_final = g/D * (np.copy(x)**2 / 2 - H*np.copy(x))\n",
    "\n",
    "# Evolution\n",
    "for i in range(Nsteps):\n",
    "\n",
    "    # Diffusion operation matrices\n",
    "    A = np.eye(Ngrid)*(1+2*beta) + np.eye(Ngrid,k=1)*(-beta) + \\\n",
    "        np.eye(Ngrid,k=-1)*(-beta)\n",
    "  \n",
    "    # Boundary conditions\n",
    "    A[Ngrid-1, Ngrid-1] = 1 + beta # No stress at air interface\n",
    "    A[0,0] = 1 # No slip at slope interface\n",
    "    A[0,1] = 0\n",
    "     \n",
    "    # Solve for next time step\n",
    "    u_inter = u-g*dt # Including source while satisfying boundary condition\n",
    "    u_inter[0] += g*dt\n",
    "    u_inter[-1] += g*dt\n",
    "    u = np.linalg.solve(A, u_inter)\n",
    "    \n",
    "    frames.append(u)"
   ]
  },
  {
   "cell_type": "code",
   "execution_count": 14,
   "id": "ec7f2b9b",
   "metadata": {},
   "outputs": [
    {
     "data": {
      "text/plain": [
       "500"
      ]
     },
     "execution_count": 14,
     "metadata": {},
     "output_type": "execute_result"
    }
   ],
   "source": [
    "len(frames)"
   ]
  },
  {
   "cell_type": "code",
   "execution_count": 15,
   "id": "340234f8",
   "metadata": {},
   "outputs": [
    {
     "data": {
      "image/png": "[encoded data removed]",
      "text/plain": [
       "<Figure size 432x288 with 1 Axes>"
      ]
     },
     "metadata": {
      "needs_background": "light"
     },
     "output_type": "display_data"
    }
   ],
   "source": [
    "# Compiling animation\n",
    "mpl.rcParams['savefig.facecolor'] = 'white'\n",
    "fig, ax = plt.subplots()\n",
    "ax.set_xlim(0,H)\n",
    "ax.set_ylim(min(u_final), max(u_final))\n",
    "\n",
    "def animate(i):\n",
    "    u = frames[i]\n",
    "    ax.clear()\n",
    "    ax.plot(x, u_final, '--')\n",
    "    ax.plot(x, u)\n",
    "    ax.set_xlabel('x')\n",
    "    ax.set_ylabel('u_y')\n",
    "\n",
    "anime = animation.FuncAnimation(fig, animate, frames=len(frames), interval=5)\n",
    "anime.save('Lava flow simulation.gif', writer='pillow')"
   ]
  },
  {
   "cell_type": "markdown",
   "id": "3d6d5c1e",
   "metadata": {},
   "source": [
    "## Real-time simulation (the animation is a bit shaky, sometimes stops updating...). Need to restart kernel in between runs"
   ]
  },
  {
   "cell_type": "code",
   "execution_count": null,
   "id": "520870d3",
   "metadata": {},
   "outputs": [],
   "source": [
    "%matplotlib notebook \n",
    "# Grid & diffusion parameters\n",
    "angle = 45\n",
    "D = 10 # viscosity\n",
    "H = 10 # width of lava layer\n",
    "Ngrid = 100\n",
    "Nsteps = 300\n",
    "\n",
    "dt = 0.3\n",
    "dx = H/Ngrid\n",
    "g = 10*np.sin(angle * np.pi/180) #gravity\n",
    "beta = D*dt / (dx**2)\n",
    "x = np.linspace(0, H, Ngrid)\n",
    "\n",
    "# Initial condition\n",
    "u = np.zeros(Ngrid)\n",
    "u_final = g/D * (np.copy(x)**2 / 2 - H*np.copy(x))\n",
    "\n",
    "# Plot setup\n",
    "plt.ion()\n",
    "fig = plt.figure()\n",
    "ax = fig.add_subplot(111)\n",
    "fig.show()\n",
    "fig.canvas.draw()\n",
    "\n",
    "\n",
    "# Evolution\n",
    "for i in range(Nsteps):\n",
    "\n",
    "    # Diffusion operation matrices\n",
    "    A = np.eye(Ngrid)*(1+2*beta) + np.eye(Ngrid,k=1)*(-beta) + \\\n",
    "        np.eye(Ngrid,k=-1)*(-beta)\n",
    "  \n",
    "    # Boundary conditions\n",
    "    A[Ngrid-1, Ngrid-1] = 1 + beta # No stress at air interface\n",
    "    A[0,0] = 1 # No slip at slope interface\n",
    "    A[0,1] = 0\n",
    "     \n",
    "    # Solve for next time step\n",
    "    u_inter = u-g*dt # Including source while satisfying boundary condition\n",
    "    u_inter[0] += g*dt\n",
    "    u_inter[-1] += g*dt\n",
    "    u = np.linalg.solve(A, u_inter)\n",
    "    \n",
    "    # Update plot\n",
    "    ax.clear()\n",
    "    ax.set_xlim([0, H])\n",
    "    ax.set_ylim([min(u_final), max(u_final)])\n",
    "\n",
    "\n",
    "    ax.set_xlabel('x')\n",
    "    ax.set_ylabel('u_y')\n",
    "    # Final state in the background\n",
    "    ax.plot(x, u_final, '--')\n",
    "    # Current state\n",
    "    ax.plot(x, u)\n",
    "    \n",
    "    fig.canvas.draw()\n",
    "    plt.pause(0.1)\n",
    "    \n",
    "print(\"All time steps done\")"
   ]
  }
 ],
 "metadata": {
  "kernelspec": {
   "display_name": "Python 3 (ipykernel)",
   "language": "python",
   "name": "python3"
  },
  "language_info": {
   "codemirror_mode": {
    "name": "ipython",
    "version": 3
   },
   "file_extension": ".py",
   "mimetype": "text/x-python",
   "name": "python",
   "nbconvert_exporter": "python",
   "pygments_lexer": "ipython3",
   "version": "3.10.6"
  }
 },
 "nbformat": 4,
 "nbformat_minor": 5
}
