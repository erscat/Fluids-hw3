{
 "cells": [
  {
   "cell_type": "markdown",
   "id": "162f5c5c",
   "metadata": {},
   "source": [
    "## Equation to solve: $\\partial_t u_y = \\nu\\partial_x^2 u_y - g$, where $g$ is some scaled gravity (depending on the slope of the incline)."
   ]
  },
  {
   "cell_type": "markdown",
   "id": "b1b5b2b7",
   "metadata": {},
   "source": [
    "## Note: for animation to run well, restart the kernel in between runs"
   ]
  },
  {
   "cell_type": "code",
   "execution_count": null,
   "id": "3faadc5f",
   "metadata": {},
   "outputs": [],
   "source": [
    "\"\"\"\n",
    "Visualizing lava flow\n",
    "Author: Zhongan Lin\n",
    "\"\"\"\n",
    "%matplotlib notebook \n",
    "import numpy as np\n",
    "from matplotlib import pyplot as plt"
   ]
  },
  {
   "cell_type": "code",
   "execution_count": null,
   "id": "4184f4a2",
   "metadata": {},
   "outputs": [],
   "source": [
    "# Grid & advection/diffusion parameters\n",
    "angle = 45\n",
    "D = 10\n",
    "H = 10\n",
    "Ngrid = 100\n",
    "Nsteps = 500\n",
    "dt = 0.1\n",
    "dx = H/Ngrid\n",
    "g = 10*np.sin(angle * np.pi/180)\n",
    "beta = D*dt / (dx**2)\n",
    "\n",
    "x = np.linspace(0, H, Ngrid)\n",
    "\n",
    "# Initial condition\n",
    "u = np.zeros(Ngrid)\n",
    "u_final = g/D * (np.copy(x)**2 / 2 - H*np.copy(x))"
   ]
  },
  {
   "cell_type": "code",
   "execution_count": null,
   "id": "16eda055",
   "metadata": {
    "scrolled": false
   },
   "outputs": [],
   "source": [
    "# Plot setup\n",
    "plt.ion()\n",
    "fig = plt.figure()\n",
    "ax = fig.add_subplot(111)\n",
    "ax.plot(u)\n",
    "fig.show()\n",
    "fig.canvas.draw()\n",
    "\n",
    "# Evolution\n",
    "for i in range(Nsteps):\n",
    "     \n",
    "    # Diffusion --------------\n",
    "    # Diffusion operation matrices\n",
    "    A = np.eye(Ngrid)*(1+2*beta) + np.eye(Ngrid,k=1)*(-beta) + \\\n",
    "        np.eye(Ngrid,k=-1)*(-beta)\n",
    "\n",
    "    \n",
    "    # Boundary conditions\n",
    "    A[Ngrid-1, Ngrid-1] = 1 + beta # No stress at air interface\n",
    "    A[0,0] = 1 # No slip at slope interface\n",
    "    A[0,1] = 0\n",
    "     \n",
    "    # Solve for next time step\n",
    "    u_inter = u-g*dt # Boundary condition\n",
    "    u_inter[0] += g*dt\n",
    "    u_inter[-1] += g*dt\n",
    "    u = np.linalg.solve(A, u_inter)\n",
    "    \n",
    "    # Update plot\n",
    "    ax.clear()\n",
    "    ax.set_xlim([0, x[-1]])\n",
    "    ax.set_ylim([min(u_final),max(u_final)])\n",
    "    ax.plot(x, u_final, 'k-')\n",
    "    ax.plot(x, u, 'ro')\n",
    "    ax.set_title(\"D={}\".format(D))\n",
    "    ax.set_xlabel(r\"$x$\")\n",
    "    ax.set_ylabel(r\"$u_y$\")\n",
    "    # Final state in the background\n",
    "    ax.plot(x, u_final, 'k-')\n",
    "    \n",
    "    fig.canvas.draw()\n",
    "    plt.pause(0.001)"
   ]
  },
  {
   "cell_type": "code",
   "execution_count": null,
   "id": "64b2c280",
   "metadata": {},
   "outputs": [],
   "source": []
  }
 ],
 "metadata": {
  "kernelspec": {
   "display_name": "Python 3 (ipykernel)",
   "language": "python",
   "name": "python3"
  },
  "language_info": {
   "codemirror_mode": {
    "name": "ipython",
    "version": 3
   },
   "file_extension": ".py",
   "mimetype": "text/x-python",
   "name": "python",
   "nbconvert_exporter": "python",
   "pygments_lexer": "ipython3",
   "version": "3.10.6"
  }
 },
 "nbformat": 4,
 "nbformat_minor": 5
}
